{
 "metadata": {
  "name": "",
  "signature": "sha256:94aa182ae5a21d4f4dc0a5a5683a86af08d0242fa86f05f791a4c52b003ea911"
 },
 "nbformat": 3,
 "nbformat_minor": 0,
 "worksheets": [
  {
   "cells": [
    {
     "cell_type": "heading",
     "level": 2,
     "metadata": {},
     "source": [
      "Quality check measures for the Imagen fMRI data"
     ]
    },
    {
     "cell_type": "code",
     "collapsed": false,
     "input": [
      "%pylab inline"
     ],
     "language": "python",
     "metadata": {},
     "outputs": []
    },
    {
     "cell_type": "code",
     "collapsed": false,
     "input": [
      "%run fmri_qc"
     ],
     "language": "python",
     "metadata": {},
     "outputs": []
    },
    {
     "cell_type": "code",
     "collapsed": false,
     "input": [
      "# time_slice_diffs?"
     ],
     "language": "python",
     "metadata": {},
     "outputs": []
    },
    {
     "cell_type": "code",
     "collapsed": false,
     "input": [
      "DIR = osp.join(osp.expanduser('~'), 'data', 'ds105')\n",
      "\n",
      "if not osp.isdir(DIR):\n",
      "    raise IOError(\"no such DIR \" + DIR)"
     ],
     "language": "python",
     "metadata": {},
     "outputs": []
    },
    {
     "cell_type": "code",
     "collapsed": false,
     "input": [
      "subjects_dirs = glob.glob(osp.join(DIR,\"sub???\"))\n",
      "subjects_dirs.sort()"
     ],
     "language": "python",
     "metadata": {},
     "outputs": []
    },
    {
     "cell_type": "code",
     "collapsed": false,
     "input": [
      "#subjects_dirs\n",
      "# take first subject\n",
      "sub = 0 "
     ],
     "language": "python",
     "metadata": {},
     "outputs": []
    },
    {
     "cell_type": "code",
     "collapsed": false,
     "input": [
      "bold_for_sub = glob.glob(osp.join(subjects_dirs[sub], 'BOLD', \"task001_run???\"))\n",
      "bold_for_sub.sort()\n",
      "#print bold_for_sub"
     ],
     "language": "python",
     "metadata": {},
     "outputs": []
    },
    {
     "cell_type": "code",
     "collapsed": false,
     "input": [
      "run = 0"
     ],
     "language": "python",
     "metadata": {},
     "outputs": []
    },
    {
     "cell_type": "code",
     "collapsed": false,
     "input": [
      "fname = osp.join(bold_for_sub[run],\"bold.nii.gz\")"
     ],
     "language": "python",
     "metadata": {},
     "outputs": []
    },
    {
     "cell_type": "code",
     "collapsed": false,
     "input": [
      "img = nib.load(fname)\n",
      "arr = img.get_data()\n",
      "arr.shape\n"
     ],
     "language": "python",
     "metadata": {},
     "outputs": []
    },
    {
     "cell_type": "code",
     "collapsed": false,
     "input": [
      "qc = time_slice_diffs(arr)"
     ],
     "language": "python",
     "metadata": {},
     "outputs": []
    },
    {
     "cell_type": "code",
     "collapsed": false,
     "input": [
      "print qc['slice_mean_diff2'].shape, qc['volume_mean_diff2'].shape"
     ],
     "language": "python",
     "metadata": {},
     "outputs": []
    },
    {
     "cell_type": "code",
     "collapsed": false,
     "input": [
      "#plt.plot(qc['slice_mean_diff2'][71,:])\n",
      "tsdiffplot.plot_tsdiffs(qc)\n",
      "#h = plt.hist(qc['slice_mean_diff2'].flatten(),30)\n",
      "#smd2 = qc['slice_mean_diff2'][:,17].flatten()\n",
      "#smd2 = qc['volume_mean_diff2']"
     ],
     "language": "python",
     "metadata": {},
     "outputs": []
    },
    {
     "cell_type": "code",
     "collapsed": false,
     "input": [
      "smd2 = qc['slice_mean_diff2']\n",
      "spikes = spikes_from_slice_diff(smd2)\n",
      "#plot(smd2)"
     ],
     "language": "python",
     "metadata": {},
     "outputs": []
    },
    {
     "cell_type": "code",
     "collapsed": false,
     "input": [
      "plt.imshow(spikes, interpolation='nearest')"
     ],
     "language": "python",
     "metadata": {},
     "outputs": []
    },
    {
     "cell_type": "code",
     "collapsed": false,
     "input": [
      "diracs = detect_dirac_spikes(spikes)"
     ],
     "language": "python",
     "metadata": {},
     "outputs": []
    },
    {
     "cell_type": "code",
     "collapsed": false,
     "input": [
      "f, (ax1, ax2) = plt.subplots(1, 2, sharey=True)\n",
      "ax1.imshow(spikes, interpolation='nearest')\n",
      "ax2.imshow(diracs, interpolation='nearest')\n"
     ],
     "language": "python",
     "metadata": {},
     "outputs": []
    },
    {
     "cell_type": "code",
     "collapsed": false,
     "input": [
      "final = final_detection(spikes)"
     ],
     "language": "python",
     "metadata": {},
     "outputs": []
    },
    {
     "cell_type": "code",
     "collapsed": false,
     "input": [
      "f, (ax1, ax2) = plt.subplots(1, 2, sharey=True)\n",
      "ax1.imshow(spikes, interpolation='nearest')\n",
      "ax2.imshow(final, interpolation='nearest')"
     ],
     "language": "python",
     "metadata": {},
     "outputs": []
    },
    {
     "cell_type": "code",
     "collapsed": false,
     "input": [
      "final.shape"
     ],
     "language": "python",
     "metadata": {},
     "outputs": []
    },
    {
     "cell_type": "code",
     "collapsed": false,
     "input": [
      "print final.sum(), \"number of time to be corrected:\", (final.sum(axis=1) > 0).sum()"
     ],
     "language": "python",
     "metadata": {},
     "outputs": []
    },
    {
     "cell_type": "code",
     "collapsed": false,
     "input": [
      "qc, spikes, (tim, sli) = spike_detector(fname, Zalph=5., histeresis = True, hthres = 2., verbose=0)\n",
      "print tim\n",
      "print sli\n",
      "f, ax1 = plt.subplots(1, 1)\n",
      "ax1.imshow(spikes, interpolation='nearest')\n",
      "_ = tsdiffplot.plot_tsdiffs(qc)"
     ],
     "language": "python",
     "metadata": {},
     "outputs": []
    },
    {
     "cell_type": "heading",
     "level": 3,
     "metadata": {},
     "source": [
      "Another examples - from Imagen"
     ]
    },
    {
     "cell_type": "code",
     "collapsed": false,
     "input": [
      "DIR = osp.join(osp.expanduser('~'), 'data','imagen','FU2','BERLIN',\n",
      "               '042000000004')\n",
      "fname = osp.join(DIR,\"20131211_100711EPIRestFUs004a001.nii.gz\")\n",
      "if not osp.isdir(DIR):\n",
      "    raise IOError(\"no such DIR \" + DIR)\n"
     ],
     "language": "python",
     "metadata": {},
     "outputs": []
    },
    {
     "cell_type": "code",
     "collapsed": false,
     "input": [
      "#import tarfile\n",
      "#tar = tarfile.open(subjects_dirs[0], \"r:gz\")\n",
      "#for tarinfo in tar:\n",
      "#    print tarinfo.name"
     ],
     "language": "python",
     "metadata": {},
     "outputs": []
    },
    {
     "cell_type": "code",
     "collapsed": false,
     "input": [
      "qc, spikes, (tim, sli) = spike_detector(fname, Zalph=5., histeresis = True, hthres = 2., verbose=0)\n",
      "print tim, sli\n",
      "f, ax1 = plt.subplots(1, 1)\n",
      "ax1.imshow(spikes, interpolation='nearest')\n",
      "_ = tsdiffplot.plot_tsdiffs(qc)"
     ],
     "language": "python",
     "metadata": {},
     "outputs": []
    },
    {
     "cell_type": "heading",
     "level": 3,
     "metadata": {},
     "source": [
      "Debugging ..."
     ]
    },
    {
     "cell_type": "code",
     "collapsed": false,
     "input": [
      "%run test_qc\n",
      "# %run fmri_qc"
     ],
     "language": "python",
     "metadata": {},
     "outputs": [],
     "prompt_number": 1
    },
    {
     "cell_type": "code",
     "collapsed": false,
     "input": [
      "np.argsort([3,2,1,5,4])"
     ],
     "language": "python",
     "metadata": {},
     "outputs": [
      {
       "metadata": {},
       "output_type": "pyout",
       "prompt_number": 2,
       "text": [
        "array([2, 1, 0, 4, 3])"
       ]
      }
     ],
     "prompt_number": 2
    },
    {
     "cell_type": "code",
     "collapsed": false,
     "input": [
      "sh  = (4,4,5,17)\n",
      "sli = ([3, 4],)\n",
      "tim = (0,)\n"
     ],
     "language": "python",
     "metadata": {},
     "outputs": [],
     "prompt_number": 3
    },
    {
     "cell_type": "code",
     "collapsed": false,
     "input": [
      "test_spike_detector()"
     ],
     "language": "python",
     "metadata": {},
     "outputs": [
      {
       "output_type": "stream",
       "stream": "stdout",
       "text": [
        "(4, 4, 5, 17) ([3],) (0,)\n",
        "entering spikes from slices\n",
        "found  0 spike(s) at sl 0 \n",
        " spikes : [0 0 0 0 0 0 0 0 0 0 0 0 0 0 0 0]\n",
        "\t  index_diracs:  []\n",
        "found  0 spike(s) at sl 1 \n",
        " spikes : [0 0 0 0 0 0 0 0 0 0 0 0 0 0 0 0]\n",
        "\t  index_diracs:  []\n",
        "found  0 spike(s) at sl 2 \n",
        " spikes : [0 0 0 0 0 0 0 0 0 0 0 0 0 0 0 0]\n",
        "\t  index_diracs:  []\n",
        "found  1 spike(s) at sl 3 \n",
        " spikes : [1 0 0 0 0 0 0 0 0 0 0 0 0 0 0 0]\n",
        "\t  index_diracs:  [0]\n",
        "\tidx:  0 rank_idx:  15\n",
        "\t  rank_idx: 15  (closest) max_rank:  11  \n",
        "\t smd2  [ 9.29372996  2.57821799  2.10359834  1.48627849  3.06570014  3.09288711\n",
        "  1.62995505  2.28689545  2.91088886  1.01317804  1.1998567   1.70874622\n",
        "  1.41041553  1.46575597  1.91842252  1.044465  ]  \n",
        "\t index_diracs  [0]  \n",
        "\t idx_argsort  [ 9 15 10 12 13  3  6 11 14  2  7  1  8  4  5  0]  \n",
        "\t idx_rank  [15 11  9  5 13 14  6 10 12  0  2  7  3  4  8  1]\n",
        "found  0 spike(s) at sl 4 \n",
        " spikes : [0 0 0 0 0 0 0 0 0 0 0 0 0 0 0 0]\n",
        "\t  index_diracs:  []\n",
        "times_to_correct:  [] slices_to_correct:  {}\n"
       ]
      },
      {
       "ename": "AssertionError",
       "evalue": "\nArrays are not equal\n\n(shapes (1,), (0,) mismatch)\n x: array([0])\n y: array([], dtype=int64)",
       "output_type": "pyerr",
       "traceback": [
        "\u001b[1;31m---------------------------------------------------------------------------\u001b[0m\n\u001b[1;31mAssertionError\u001b[0m                            Traceback (most recent call last)",
        "\u001b[1;32m<ipython-input-4-e76ae0dc4ec1>\u001b[0m in \u001b[0;36m<module>\u001b[1;34m()\u001b[0m\n\u001b[1;32m----> 1\u001b[1;33m \u001b[0mtest_spike_detector\u001b[0m\u001b[1;33m(\u001b[0m\u001b[1;33m)\u001b[0m\u001b[1;33m\u001b[0m\u001b[0m\n\u001b[0m",
        "\u001b[1;32m/home/jb/code/imagen/jb_scripts/test_qc.py\u001b[0m in \u001b[0;36mtest_spike_detector\u001b[1;34m()\u001b[0m\n\u001b[0;32m     92\u001b[0m     print(\"times_to_correct: \",times_2_correct, \"slices_to_correct: \",\n\u001b[0;32m     93\u001b[0m             slices_2_correct)\n\u001b[1;32m---> 94\u001b[1;33m     \u001b[0massert_array_equal\u001b[0m\u001b[1;33m(\u001b[0m\u001b[0mnp\u001b[0m\u001b[1;33m.\u001b[0m\u001b[0masarray\u001b[0m\u001b[1;33m(\u001b[0m\u001b[0mtim\u001b[0m\u001b[1;33m)\u001b[0m\u001b[1;33m,\u001b[0m \u001b[0mtimes_2_correct\u001b[0m\u001b[1;33m)\u001b[0m\u001b[1;33m\u001b[0m\u001b[0m\n\u001b[0m\u001b[0;32m     95\u001b[0m \u001b[1;33m\u001b[0m\u001b[0m\n\u001b[0;32m     96\u001b[0m \u001b[1;33m\u001b[0m\u001b[0m\n",
        "\u001b[1;32m/home/jb/.local/lib/python2.7/site-packages/numpy/testing/utils.pyc\u001b[0m in \u001b[0;36massert_array_equal\u001b[1;34m(x, y, err_msg, verbose)\u001b[0m\n\u001b[0;32m    717\u001b[0m     \"\"\"\n\u001b[0;32m    718\u001b[0m     assert_array_compare(operator.__eq__, x, y, err_msg=err_msg,\n\u001b[1;32m--> 719\u001b[1;33m                          verbose=verbose, header='Arrays are not equal')\n\u001b[0m\u001b[0;32m    720\u001b[0m \u001b[1;33m\u001b[0m\u001b[0m\n\u001b[0;32m    721\u001b[0m \u001b[1;32mdef\u001b[0m \u001b[0massert_array_almost_equal\u001b[0m\u001b[1;33m(\u001b[0m\u001b[0mx\u001b[0m\u001b[1;33m,\u001b[0m \u001b[0my\u001b[0m\u001b[1;33m,\u001b[0m \u001b[0mdecimal\u001b[0m\u001b[1;33m=\u001b[0m\u001b[1;36m6\u001b[0m\u001b[1;33m,\u001b[0m \u001b[0merr_msg\u001b[0m\u001b[1;33m=\u001b[0m\u001b[1;34m''\u001b[0m\u001b[1;33m,\u001b[0m \u001b[0mverbose\u001b[0m\u001b[1;33m=\u001b[0m\u001b[0mTrue\u001b[0m\u001b[1;33m)\u001b[0m\u001b[1;33m:\u001b[0m\u001b[1;33m\u001b[0m\u001b[0m\n",
        "\u001b[1;32m/home/jb/.local/lib/python2.7/site-packages/numpy/testing/utils.pyc\u001b[0m in \u001b[0;36massert_array_compare\u001b[1;34m(comparison, x, y, err_msg, verbose, header)\u001b[0m\n\u001b[0;32m    598\u001b[0m                                 names=('x', 'y'))\n\u001b[0;32m    599\u001b[0m             \u001b[1;32mif\u001b[0m \u001b[1;32mnot\u001b[0m \u001b[0mcond\u001b[0m \u001b[1;33m:\u001b[0m\u001b[1;33m\u001b[0m\u001b[0m\n\u001b[1;32m--> 600\u001b[1;33m                 \u001b[1;32mraise\u001b[0m \u001b[0mAssertionError\u001b[0m\u001b[1;33m(\u001b[0m\u001b[0mmsg\u001b[0m\u001b[1;33m)\u001b[0m\u001b[1;33m\u001b[0m\u001b[0m\n\u001b[0m\u001b[0;32m    601\u001b[0m \u001b[1;33m\u001b[0m\u001b[0m\n\u001b[0;32m    602\u001b[0m         \u001b[1;32mif\u001b[0m \u001b[0misnumber\u001b[0m\u001b[1;33m(\u001b[0m\u001b[0mx\u001b[0m\u001b[1;33m)\u001b[0m \u001b[1;32mand\u001b[0m \u001b[0misnumber\u001b[0m\u001b[1;33m(\u001b[0m\u001b[0my\u001b[0m\u001b[1;33m)\u001b[0m\u001b[1;33m:\u001b[0m\u001b[1;33m\u001b[0m\u001b[0m\n",
        "\u001b[1;31mAssertionError\u001b[0m: \nArrays are not equal\n\n(shapes (1,), (0,) mismatch)\n x: array([0])\n y: array([], dtype=int64)"
       ]
      }
     ],
     "prompt_number": 4
    },
    {
     "cell_type": "code",
     "collapsed": false,
     "input": [
      "def rank_idx(idx, rk2idx):\n",
      "    # return where idx is in rk2idx \n",
      "    return np.where(np.asarray(rk2idx) == idx)[0]"
     ],
     "language": "python",
     "metadata": {},
     "outputs": [],
     "prompt_number": 26
    },
    {
     "cell_type": "code",
     "collapsed": false,
     "input": [
      "idx_argsort = np.asarray([ 6,  5,  3,  4,  2,  9, 11,  1, 10, 15,  7,  8, 13, 12, 14,  0])"
     ],
     "language": "python",
     "metadata": {},
     "outputs": [],
     "prompt_number": 27
    },
    {
     "cell_type": "code",
     "collapsed": false,
     "input": [
      "print rank_idx(0, idx_argsort)"
     ],
     "language": "python",
     "metadata": {},
     "outputs": [
      {
       "output_type": "stream",
       "stream": "stdout",
       "text": [
        "[15]\n"
       ]
      }
     ],
     "prompt_number": 28
    },
    {
     "cell_type": "code",
     "collapsed": false,
     "input": [
      "a = np.arange(16)"
     ],
     "language": "python",
     "metadata": {},
     "outputs": [],
     "prompt_number": 29
    },
    {
     "cell_type": "code",
     "collapsed": false,
     "input": [
      "a[idx_argsort]"
     ],
     "language": "python",
     "metadata": {},
     "outputs": [
      {
       "metadata": {},
       "output_type": "pyout",
       "prompt_number": 31,
       "text": [
        "array([ 6,  5,  3,  4,  2,  9, 11,  1, 10, 15,  7,  8, 13, 12, 14,  0])"
       ]
      }
     ],
     "prompt_number": 31
    },
    {
     "cell_type": "code",
     "collapsed": false,
     "input": [
      "np.where(idx_argsort >5)"
     ],
     "language": "python",
     "metadata": {},
     "outputs": [
      {
       "metadata": {},
       "output_type": "pyout",
       "prompt_number": 23,
       "text": [
        "(array([ 0,  5,  6,  8,  9, 10, 11, 12, 13, 14]),)"
       ]
      }
     ],
     "prompt_number": 23
    },
    {
     "cell_type": "code",
     "collapsed": false,
     "input": [
      "arr= np.asarray([ 13.57161279,   2.18753408,   1.94979789,   1.70544749,   1.86316683,  \n",
      "                 1.64145047,   1.54763011,   2.55369908,   2.89143437,  1.9615876, 2.36697634,   \n",
      "                 2.04697349,   3.29837957,   3.09750378,   3.52226016,   2.55060518])"
     ],
     "language": "python",
     "metadata": {},
     "outputs": [],
     "prompt_number": 48
    },
    {
     "cell_type": "code",
     "collapsed": false,
     "input": [
      "isort = np.argsort(arr)\n",
      "arr[isort]"
     ],
     "language": "python",
     "metadata": {},
     "outputs": [
      {
       "metadata": {},
       "output_type": "pyout",
       "prompt_number": 53,
       "text": [
        "array([  1.54763011,   1.64145047,   1.70544749,   1.86316683,\n",
        "         1.94979789,   1.9615876 ,   2.04697349,   2.18753408,\n",
        "         2.36697634,   2.55060518,   2.55369908,   2.89143437,\n",
        "         3.09750378,   3.29837957,   3.52226016,  13.57161279])"
       ]
      }
     ],
     "prompt_number": 53
    },
    {
     "cell_type": "code",
     "collapsed": false,
     "input": [
      "np.argsort(isort)"
     ],
     "language": "python",
     "metadata": {},
     "outputs": [
      {
       "metadata": {},
       "output_type": "pyout",
       "prompt_number": 54,
       "text": [
        "array([15,  7,  4,  2,  3,  1,  0, 10, 11,  5,  8,  6, 13, 12, 14,  9])"
       ]
      }
     ],
     "prompt_number": 54
    },
    {
     "cell_type": "code",
     "collapsed": false,
     "input": [],
     "language": "python",
     "metadata": {},
     "outputs": []
    }
   ],
   "metadata": {}
  }
 ]
}